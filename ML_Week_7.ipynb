{
  "nbformat": 4,
  "nbformat_minor": 0,
  "metadata": {
    "colab": {
      "provenance": [],
      "authorship_tag": "ABX9TyM3tkAj3KuPx39rwui7cs7D",
      "include_colab_link": true
    },
    "kernelspec": {
      "name": "python3",
      "display_name": "Python 3"
    },
    "language_info": {
      "name": "python"
    }
  },
  "cells": [
    {
      "cell_type": "markdown",
      "metadata": {
        "id": "view-in-github",
        "colab_type": "text"
      },
      "source": [
        "<a href=\"https://colab.research.google.com/github/Navya-20JR1A0568/Machine-Learning-Text-mining/blob/main/ML_Week_7.ipynb\" target=\"_parent\"><img src=\"https://colab.research.google.com/assets/colab-badge.svg\" alt=\"Open In Colab\"/></a>"
      ]
    },
    {
      "cell_type": "markdown",
      "source": [],
      "metadata": {
        "id": "xDiL4gfd58UW"
      }
    },
    {
      "cell_type": "code",
      "execution_count": 19,
      "metadata": {
        "colab": {
          "base_uri": "https://localhost:8080/"
        },
        "id": "TOwNVsK55JMk",
        "outputId": "10887b31-df27-443c-cfe9-218571580539"
      },
      "outputs": [
        {
          "output_type": "stream",
          "name": "stdout",
          "text": [
            "Requirement already satisfied: pyspark in /usr/local/lib/python3.11/dist-packages (3.5.1)\n",
            "Requirement already satisfied: py4j==0.10.9.7 in /usr/local/lib/python3.11/dist-packages (from pyspark) (0.10.9.7)\n"
          ]
        }
      ],
      "source": [
        "!pip install pyspark"
      ]
    },
    {
      "cell_type": "code",
      "source": [
        "!pip install pyspark nltk"
      ],
      "metadata": {
        "colab": {
          "base_uri": "https://localhost:8080/"
        },
        "id": "91--jHvQ6O09",
        "outputId": "52315ae6-5fab-4a0d-b1e4-1c763243cb67"
      },
      "execution_count": 20,
      "outputs": [
        {
          "output_type": "stream",
          "name": "stdout",
          "text": [
            "Requirement already satisfied: pyspark in /usr/local/lib/python3.11/dist-packages (3.5.1)\n",
            "Requirement already satisfied: nltk in /usr/local/lib/python3.11/dist-packages (3.9.1)\n",
            "Requirement already satisfied: py4j==0.10.9.7 in /usr/local/lib/python3.11/dist-packages (from pyspark) (0.10.9.7)\n",
            "Requirement already satisfied: click in /usr/local/lib/python3.11/dist-packages (from nltk) (8.2.1)\n",
            "Requirement already satisfied: joblib in /usr/local/lib/python3.11/dist-packages (from nltk) (1.5.1)\n",
            "Requirement already satisfied: regex>=2021.8.3 in /usr/local/lib/python3.11/dist-packages (from nltk) (2024.11.6)\n",
            "Requirement already satisfied: tqdm in /usr/local/lib/python3.11/dist-packages (from nltk) (4.67.1)\n"
          ]
        }
      ]
    },
    {
      "cell_type": "code",
      "source": [
        "import nltk\n",
        "nltk.download('wordnet')\n",
        "nltk.download('omw-1.4')"
      ],
      "metadata": {
        "colab": {
          "base_uri": "https://localhost:8080/"
        },
        "id": "E96SGczg6REF",
        "outputId": "ce938bbf-f0ff-4f06-ec7b-550ee0f58520"
      },
      "execution_count": 21,
      "outputs": [
        {
          "output_type": "stream",
          "name": "stderr",
          "text": [
            "[nltk_data] Downloading package wordnet to /root/nltk_data...\n",
            "[nltk_data]   Package wordnet is already up-to-date!\n",
            "[nltk_data] Downloading package omw-1.4 to /root/nltk_data...\n",
            "[nltk_data]   Package omw-1.4 is already up-to-date!\n"
          ]
        },
        {
          "output_type": "execute_result",
          "data": {
            "text/plain": [
              "True"
            ]
          },
          "metadata": {},
          "execution_count": 21
        }
      ]
    },
    {
      "cell_type": "code",
      "source": [
        "from pyspark.sql import SparkSession\n",
        "from pyspark.sql.functions import col\n",
        "from pyspark.ml.feature import Tokenizer, StopWordsRemover, HashingTF, IDF\n",
        "from pyspark.ml.classification import LogisticRegression\n",
        "from pyspark.ml import Pipeline\n",
        "from pyspark.ml.feature import StringIndexer\n",
        "from pyspark.ml.evaluation import MulticlassClassificationEvaluator\n"
      ],
      "metadata": {
        "id": "gaofciuL6ZdN"
      },
      "execution_count": 22,
      "outputs": []
    },
    {
      "cell_type": "code",
      "source": [
        "from pyspark.sql.functions import udf\n",
        "from pyspark.sql.types import ArrayType, StringType\n",
        "from nltk.stem import PorterStemmer, WordNetLemmatizer"
      ],
      "metadata": {
        "id": "mejlOyTe6wc0"
      },
      "execution_count": 23,
      "outputs": []
    },
    {
      "cell_type": "code",
      "source": [
        "stemmer = PorterStemmer()\n",
        "lemmatizer = WordNetLemmatizer()\n",
        "\n",
        "# Define UDF for Stemming\n",
        "def stem_words(words):\n",
        "    return [stemmer.stem(word) for word in words]\n",
        "\n",
        "# Define UDF for Lemmatization\n",
        "def lemmatize_words(words):\n",
        "    return [lemmatizer.lemmatize(word) for word in words]\n",
        "\n",
        "# Convert Python functions to PySpark UDFs\n",
        "stem_udf = udf(stem_words, ArrayType(StringType()))\n",
        "lemma_udf = udf(lemmatize_words, ArrayType(StringType()))"
      ],
      "metadata": {
        "id": "Y6HiGeZv6zR1"
      },
      "execution_count": 24,
      "outputs": []
    },
    {
      "cell_type": "code",
      "source": [
        "spark = SparkSession.builder.appName(\"DocumentClassificationTFIDF\").getOrCreate()"
      ],
      "metadata": {
        "id": "ts5nzvtL7BRE"
      },
      "execution_count": 31,
      "outputs": []
    },
    {
      "cell_type": "code",
      "source": [
        "spark = SparkSession.builder.appName(\"DocumentClassificationTFIDF\").getOrCreate()"
      ],
      "metadata": {
        "id": "74Pc-BKo7Ou0"
      },
      "execution_count": 30,
      "outputs": []
    },
    {
      "cell_type": "code",
      "source": [
        "data = [(0,\"Cloud computing is becoming increasingly important for businesses\",\"Technology\"),\n",
        " (1, \"Basketball players are preparing for the next tournament\", \"Sports\"),\n",
        " (2,\"Machine learning has revolutionized the way data is processed\",\"Technology\"),\n",
        " (3, \"Political campaigns are gearing up for the upcoming elections\",\"Politics\"),\n",
        " (4, \"The football team has been training hard for the upcoming season\", \"Sports\"),\n",
        " (5,\"International relations are being discussed in diplomatic meetings\",\"Politics\"),\n",
        " (6, \"The president addressed the nation in a live broadcast\", \"Politics\"),\n",
        " (7, \"Tennis players are practicing for the grand slam matches\", \"Sports\"),\n",
        " (8,\"Machine learning has revolutionized the way data is processed\",\"Technology\"),\n",
        " (9, \"Stock trading has become a popular way to build wealth\", \"Finance\"),\n",
        " (10, \"5G technology is expected to significantly improve communication speeds\",\"Technology\"),\n",
        " (11,\"Political campaigns are gearing up for the upcoming elections\",\"Politics\"),\n",
        " (12,\n",
        "  \"Machine learning has revolutionized the way data is processed\",\n",
        "  \"Technology\"),\n",
        " (13,\n",
        "  \"Investors are looking for high-yield bonds in the current market\",\n",
        "  \"Finance\"),\n",
        " (14,\n",
        "  \"Quantum computing holds promise for solving complex problems\",\n",
        "  \"Technology\"),\n",
        " (15,\n",
        "  \"Cloud computing is becoming increasingly important for businesses\",\n",
        "  \"Technology\"),\n",
        " (16, \"The Formula 1 race track is set to host the next grand prix\", \"Sports\"),\n",
        " (17,\n",
        "  \"Financial experts are advising on diversifying investment portfolios\",\n",
        "  \"Finance\"),\n",
        " (18, \"Stock trading has become a popular way to build wealth\", \"Finance\"),\n",
        " (19, \"Stock trading has become a popular way to build wealth\", \"Finance\"),\n",
        " (20,\n",
        "  \"International relations are being discussed in diplomatic meetings\",\n",
        "  \"Politics\"),\n",
        " (21, \"The Formula 1 race track is set to host the next grand prix\", \"Sports\"),\n",
        " (22,\n",
        "  \"Political campaigns are gearing up for the upcoming elections\",\n",
        "  \"Politics\"),\n",
        " (23,\n",
        "  \"Machine learning has revolutionized the way data is processed\",\n",
        "  \"Technology\"),\n",
        " (24,\n",
        "  \"The football team has been training hard for the upcoming season\",\n",
        "  \"Sports\"),\n",
        " (25, \"Tennis players are practicing for the grand slam matches\", \"Sports\"),\n",
        " (26, \"Tennis players are practicing for the grand slam matches\", \"Sports\"),\n",
        " (27,\n",
        "  \"Political campaigns are gearing up for the upcoming elections\",\n",
        "  \"Politics\"),\n",
        " (28,\n",
        "  \"The real estate market has seen significant growth in the past decade\",\n",
        "  \"Finance\"),\n",
        " (29,\n",
        "  \"Financial experts are advising on diversifying investment portfolios\",\n",
        "  \"Finance\")]\n",
        "df = spark.createDataFrame(data, [\"id\", \"text\", \"category\"])\n",
        "\n",
        "# Tokenization\n",
        "tokenizer = Tokenizer(inputCol=\"text\", outputCol=\"words\")\n",
        "df = tokenizer.transform(df)\n",
        "\n",
        "# Stopword Removal\n",
        "remover = StopWordsRemover(inputCol=\"words\", outputCol=\"filtered_words\")\n",
        "df = remover.transform(df)\n",
        "\n",
        "# Apply Stemming\n",
        "df = df.withColumn(\"stemmed_words\", stem_udf(col(\"filtered_words\")))\n",
        "\n",
        "# Apply Lemmatization\n",
        "df = df.withColumn(\"lemmatized_words\", lemma_udf(col(\"filtered_words\")))\n",
        "\n",
        "# Show Results\n",
        "df.select(\"text\", \"filtered_words\", \"stemmed_words\", \"lemmatized_words\").show(truncate=False)"
      ],
      "metadata": {
        "colab": {
          "base_uri": "https://localhost:8080/"
        },
        "id": "ZWnpPQlU7iEk",
        "outputId": "5430ec01-be7d-4637-e2bf-58da6a83b449"
      },
      "execution_count": 32,
      "outputs": [
        {
          "output_type": "stream",
          "name": "stdout",
          "text": [
            "+-----------------------------------------------------------------------+-------------------------------------------------------------------------+-------------------------------------------------------------+------------------------------------------------------------------------+\n",
            "|text                                                                   |filtered_words                                                           |stemmed_words                                                |lemmatized_words                                                        |\n",
            "+-----------------------------------------------------------------------+-------------------------------------------------------------------------+-------------------------------------------------------------+------------------------------------------------------------------------+\n",
            "|Cloud computing is becoming increasingly important for businesses      |[cloud, computing, becoming, increasingly, important, businesses]        |[cloud, comput, becom, increasingli, import, busi]           |[cloud, computing, becoming, increasingly, important, business]         |\n",
            "|Basketball players are preparing for the next tournament               |[basketball, players, preparing, next, tournament]                       |[basketbal, player, prepar, next, tournament]                |[basketball, player, preparing, next, tournament]                       |\n",
            "|Machine learning has revolutionized the way data is processed          |[machine, learning, revolutionized, way, data, processed]                |[machin, learn, revolution, way, data, process]              |[machine, learning, revolutionized, way, data, processed]               |\n",
            "|Political campaigns are gearing up for the upcoming elections          |[political, campaigns, gearing, upcoming, elections]                     |[polit, campaign, gear, upcom, elect]                        |[political, campaign, gearing, upcoming, election]                      |\n",
            "|The football team has been training hard for the upcoming season       |[football, team, training, hard, upcoming, season]                       |[footbal, team, train, hard, upcom, season]                  |[football, team, training, hard, upcoming, season]                      |\n",
            "|International relations are being discussed in diplomatic meetings     |[international, relations, discussed, diplomatic, meetings]              |[intern, relat, discuss, diplomat, meet]                     |[international, relation, discussed, diplomatic, meeting]               |\n",
            "|The president addressed the nation in a live broadcast                 |[president, addressed, nation, live, broadcast]                          |[presid, address, nation, live, broadcast]                   |[president, addressed, nation, live, broadcast]                         |\n",
            "|Tennis players are practicing for the grand slam matches               |[tennis, players, practicing, grand, slam, matches]                      |[tenni, player, practic, grand, slam, match]                 |[tennis, player, practicing, grand, slam, match]                        |\n",
            "|Machine learning has revolutionized the way data is processed          |[machine, learning, revolutionized, way, data, processed]                |[machin, learn, revolution, way, data, process]              |[machine, learning, revolutionized, way, data, processed]               |\n",
            "|Stock trading has become a popular way to build wealth                 |[stock, trading, become, popular, way, build, wealth]                    |[stock, trade, becom, popular, way, build, wealth]           |[stock, trading, become, popular, way, build, wealth]                   |\n",
            "|5G technology is expected to significantly improve communication speeds|[5g, technology, expected, significantly, improve, communication, speeds]|[5g, technolog, expect, significantli, improv, commun, speed]|[5g, technology, expected, significantly, improve, communication, speed]|\n",
            "|Political campaigns are gearing up for the upcoming elections          |[political, campaigns, gearing, upcoming, elections]                     |[polit, campaign, gear, upcom, elect]                        |[political, campaign, gearing, upcoming, election]                      |\n",
            "|Machine learning has revolutionized the way data is processed          |[machine, learning, revolutionized, way, data, processed]                |[machin, learn, revolution, way, data, process]              |[machine, learning, revolutionized, way, data, processed]               |\n",
            "|Investors are looking for high-yield bonds in the current market       |[investors, looking, high-yield, bonds, current, market]                 |[investor, look, high-yield, bond, current, market]          |[investor, looking, high-yield, bond, current, market]                  |\n",
            "|Quantum computing holds promise for solving complex problems           |[quantum, computing, holds, promise, solving, complex, problems]         |[quantum, comput, hold, promis, solv, complex, problem]      |[quantum, computing, hold, promise, solving, complex, problem]          |\n",
            "|Cloud computing is becoming increasingly important for businesses      |[cloud, computing, becoming, increasingly, important, businesses]        |[cloud, comput, becom, increasingli, import, busi]           |[cloud, computing, becoming, increasingly, important, business]         |\n",
            "|The Formula 1 race track is set to host the next grand prix            |[formula, 1, race, track, set, host, next, grand, prix]                  |[formula, 1, race, track, set, host, next, grand, prix]      |[formula, 1, race, track, set, host, next, grand, prix]                 |\n",
            "|Financial experts are advising on diversifying investment portfolios   |[financial, experts, advising, diversifying, investment, portfolios]     |[financi, expert, advis, diversifi, invest, portfolio]       |[financial, expert, advising, diversifying, investment, portfolio]      |\n",
            "|Stock trading has become a popular way to build wealth                 |[stock, trading, become, popular, way, build, wealth]                    |[stock, trade, becom, popular, way, build, wealth]           |[stock, trading, become, popular, way, build, wealth]                   |\n",
            "|Stock trading has become a popular way to build wealth                 |[stock, trading, become, popular, way, build, wealth]                    |[stock, trade, becom, popular, way, build, wealth]           |[stock, trading, become, popular, way, build, wealth]                   |\n",
            "+-----------------------------------------------------------------------+-------------------------------------------------------------------------+-------------------------------------------------------------+------------------------------------------------------------------------+\n",
            "only showing top 20 rows\n",
            "\n"
          ]
        }
      ]
    },
    {
      "cell_type": "code",
      "source": [
        "hashingTF = HashingTF(inputCol=\"lemmatized_words\", outputCol=\"raw_features\", numFeatures=500)\n",
        "df = hashingTF.transform(df)\n",
        "\n",
        "# Compute IDF\n",
        "idf = IDF(inputCol=\"raw_features\", outputCol=\"features\")\n",
        "idf_model = idf.fit(df)\n",
        "df = idf_model.transform(df)\n",
        "\n",
        "# Show TF-IDF Features\n",
        "df.select(\"text\", \"features\").show(truncate=False)"
      ],
      "metadata": {
        "colab": {
          "base_uri": "https://localhost:8080/"
        },
        "id": "7BsIWasF7r4U",
        "outputId": "3054fd6c-79d6-4eaf-a98e-1895ab8a5054"
      },
      "execution_count": 33,
      "outputs": [
        {
          "output_type": "stream",
          "name": "stdout",
          "text": [
            "+-----------------------------------------------------------------------+---------------------------------------------------------------------------------------------------------------------------------------------------------------------------------------------------------------------+\n",
            "|text                                                                   |features                                                                                                                                                                                                             |\n",
            "+-----------------------------------------------------------------------+---------------------------------------------------------------------------------------------------------------------------------------------------------------------------------------------------------------------+\n",
            "|Cloud computing is becoming increasingly important for businesses      |(500,[13,287,345,374,467,480],[2.3353749158170367,2.3353749158170367,2.0476928433652555,2.3353749158170367,2.3353749158170367,2.3353749158170367])                                                                   |\n",
            "|Basketball players are preparing for the next tournament               |(500,[63,104,243,273,367],[2.740840023925201,1.488077055429833,2.740840023925201,2.0476928433652555,2.740840023925201])                                                                                              |\n",
            "|Machine learning has revolutionized the way data is processed          |(500,[40,65,72,195,360,391],[1.0360919316867758,1.824549292051046,1.824549292051046,1.824549292051046,1.824549292051046,1.3545456628053103])                                                                         |\n",
            "|Political campaigns are gearing up for the upcoming elections          |(500,[40,132,175,435,461],[1.0360919316867758,1.824549292051046,1.824549292051046,1.824549292051046,1.824549292051046])                                                                                              |\n",
            "|The football team has been training hard for the upcoming season       |(500,[38,40,104,125,358,468],[2.3353749158170367,1.0360919316867758,1.488077055429833,2.3353749158170367,2.3353749158170367,2.3353749158170367])                                                                     |\n",
            "|International relations are being discussed in diplomatic meetings     |(500,[20,60,188,208,479],[2.0476928433652555,2.3353749158170367,2.3353749158170367,2.3353749158170367,2.3353749158170367])                                                                                           |\n",
            "|The president addressed the nation in a live broadcast                 |(500,[14,244,251,306,493],[1.824549292051046,2.740840023925201,2.740840023925201,2.740840023925201,2.740840023925201])                                                                                               |\n",
            "|Tennis players are practicing for the grand slam matches               |(500,[90,94,104,226,293,456],[1.236762627148927,2.0476928433652555,1.488077055429833,2.0476928433652555,1.488077055429833,2.0476928433652555])                                                                       |\n",
            "|Machine learning has revolutionized the way data is processed          |(500,[40,65,72,195,360,391],[1.0360919316867758,1.824549292051046,1.824549292051046,1.824549292051046,1.824549292051046,1.3545456628053103])                                                                         |\n",
            "|Stock trading has become a popular way to build wealth                 |(500,[14,90,148,293,391,490],[1.824549292051046,2.473525254297854,2.0476928433652555,1.488077055429833,1.3545456628053103,2.0476928433652555])                                                                       |\n",
            "|5G technology is expected to significantly improve communication speeds|(500,[20,143,164,171,292,408,482],[2.0476928433652555,2.740840023925201,2.740840023925201,2.740840023925201,2.740840023925201,2.740840023925201,2.740840023925201])                                                  |\n",
            "|Political campaigns are gearing up for the upcoming elections          |(500,[40,132,175,435,461],[1.0360919316867758,1.824549292051046,1.824549292051046,1.824549292051046,1.824549292051046])                                                                                              |\n",
            "|Machine learning has revolutionized the way data is processed          |(500,[40,65,72,195,360,391],[1.0360919316867758,1.824549292051046,1.824549292051046,1.824549292051046,1.824549292051046,1.3545456628053103])                                                                         |\n",
            "|Investors are looking for high-yield bonds in the current market       |(500,[147,157,189,232,248,436],[2.740840023925201,2.3353749158170367,2.740840023925201,2.740840023925201,2.740840023925201,2.740840023925201])                                                                       |\n",
            "|Quantum computing holds promise for solving complex problems           |(500,[53,56,198,333,345,355,389],[2.740840023925201,2.740840023925201,2.740840023925201,2.740840023925201,2.0476928433652555,2.740840023925201,2.740840023925201])                                                   |\n",
            "|Cloud computing is becoming increasingly important for businesses      |(500,[13,287,345,374,467,480],[2.3353749158170367,2.3353749158170367,2.0476928433652555,2.3353749158170367,2.3353749158170367,2.3353749158170367])                                                                   |\n",
            "|The Formula 1 race track is set to host the next grand prix            |(500,[90,95,102,273,342,413,431,452,454],[1.236762627148927,2.3353749158170367,2.3353749158170367,2.0476928433652555,2.3353749158170367,2.3353749158170367,2.3353749158170367,2.3353749158170367,2.3353749158170367])|\n",
            "|Financial experts are advising on diversifying investment portfolios   |(500,[62,93,161,178,407,414],[2.3353749158170367,2.3353749158170367,2.3353749158170367,2.3353749158170367,2.3353749158170367,2.3353749158170367])                                                                    |\n",
            "|Stock trading has become a popular way to build wealth                 |(500,[14,90,148,293,391,490],[1.824549292051046,2.473525254297854,2.0476928433652555,1.488077055429833,1.3545456628053103,2.0476928433652555])                                                                       |\n",
            "|Stock trading has become a popular way to build wealth                 |(500,[14,90,148,293,391,490],[1.824549292051046,2.473525254297854,2.0476928433652555,1.488077055429833,1.3545456628053103,2.0476928433652555])                                                                       |\n",
            "+-----------------------------------------------------------------------+---------------------------------------------------------------------------------------------------------------------------------------------------------------------------------------------------------------------+\n",
            "only showing top 20 rows\n",
            "\n"
          ]
        }
      ]
    },
    {
      "cell_type": "code",
      "source": [
        "indexer = StringIndexer(inputCol=\"category\", outputCol=\"label\")\n",
        "df = indexer.fit(df).transform(df)\n",
        "df.select(\"category\", \"label\").distinct().show()\n",
        "# Split Data\n",
        "train_data, test_data = df.randomSplit([0.8, 0.2], seed=42)\n",
        "\n",
        "# Train Logistic Regression Model\n",
        "lr = LogisticRegression(featuresCol=\"features\", labelCol=\"label\")\n",
        "lr_model = lr.fit(train_data)\n",
        "\n",
        "# Predictions\n",
        "predictions = lr_model.transform(test_data)\n",
        "predictions.select(\"text\", \"category\", \"prediction\").show(truncate=False)\n",
        "\n",
        "# Evaluate Model Accuracy\n",
        "evaluator = MulticlassClassificationEvaluator(labelCol=\"label\", predictionCol=\"prediction\", metricName=\"accuracy\")\n",
        "accuracy_tf_idf = evaluator.evaluate(predictions)\n",
        "print(f\"TF-IDF Model Accuracy: {accuracy_tf_idf:.2f}\")"
      ],
      "metadata": {
        "colab": {
          "base_uri": "https://localhost:8080/"
        },
        "id": "cygf9Wty7x4z",
        "outputId": "73144afd-a534-45c6-ce91-2f2e15cf5178"
      },
      "execution_count": 34,
      "outputs": [
        {
          "output_type": "stream",
          "name": "stdout",
          "text": [
            "+----------+-----+\n",
            "|  category|label|\n",
            "+----------+-----+\n",
            "|    Sports|  0.0|\n",
            "|  Politics|  3.0|\n",
            "|   Finance|  2.0|\n",
            "|Technology|  1.0|\n",
            "+----------+-----+\n",
            "\n",
            "+--------------------------------------------------------------------+----------+----------+\n",
            "|text                                                                |category  |prediction|\n",
            "+--------------------------------------------------------------------+----------+----------+\n",
            "|Machine learning has revolutionized the way data is processed       |Technology|1.0       |\n",
            "|The president addressed the nation in a live broadcast              |Politics  |2.0       |\n",
            "|Machine learning has revolutionized the way data is processed       |Technology|1.0       |\n",
            "|Investors are looking for high-yield bonds in the current market    |Finance   |2.0       |\n",
            "|Cloud computing is becoming increasingly important for businesses   |Technology|1.0       |\n",
            "|International relations are being discussed in diplomatic meetings  |Politics  |3.0       |\n",
            "|The Formula 1 race track is set to host the next grand prix         |Sports    |0.0       |\n",
            "|Financial experts are advising on diversifying investment portfolios|Finance   |2.0       |\n",
            "+--------------------------------------------------------------------+----------+----------+\n",
            "\n",
            "TF-IDF Model Accuracy: 0.88\n"
          ]
        }
      ]
    },
    {
      "cell_type": "code",
      "source": [
        "df.select(\"category\", \"label\").distinct().show()"
      ],
      "metadata": {
        "colab": {
          "base_uri": "https://localhost:8080/"
        },
        "id": "_ZRPSn0s72Js",
        "outputId": "3767d3e9-5af4-4adb-c807-2d1ea7edb701"
      },
      "execution_count": 35,
      "outputs": [
        {
          "output_type": "stream",
          "name": "stdout",
          "text": [
            "+----------+-----+\n",
            "|  category|label|\n",
            "+----------+-----+\n",
            "|    Sports|  0.0|\n",
            "|  Politics|  3.0|\n",
            "|   Finance|  2.0|\n",
            "|Technology|  1.0|\n",
            "+----------+-----+\n",
            "\n"
          ]
        }
      ]
    },
    {
      "cell_type": "code",
      "source": [
        "#Train Word2Vec Model\n",
        "#import Word2Vec\n",
        "from pyspark.ml.feature import Word2Vec # Import Word2Vec here\n",
        "word2Vec = Word2Vec(vectorSize=100, minCount=1, inputCol=\"lemmatized_words\", outputCol=\"featuresW2Vector\")\n",
        "word2Vec_model = word2Vec.fit(df)\n",
        "df = word2Vec_model.transform(df)\n",
        "\n",
        "df.select(\"text\", \"featuresW2Vector\").show(truncate=False)"
      ],
      "metadata": {
        "colab": {
          "base_uri": "https://localhost:8080/"
        },
        "id": "rk6ORUpN8FGr",
        "outputId": "23f8ea00-8817-413e-ec06-96808d026055"
      },
      "execution_count": 36,
      "outputs": [
        {
          "output_type": "stream",
          "name": "stdout",
          "text": [
            "+-----------------------------------------------------------------------+----------------------------------------------------------------------------------------------------------------------------------------------------------------------------------------------------------------------------------------------------------------------------------------------------------------------------------------------------------------------------------------------------------------------------------------------------------------------------------------------------------------------------------------------------------------------------------------------------------------------------------------------------------------------------------------------------------------------------------------------------------------------------------------------------------------------------------------------------------------------------------------------------------------------------------------------------------------------------------------------------------------------------------------------------------------------------------------------------------------------------------------------------------------------------------------------------------------------------------------------------------------------------------------------------------------------------------------------------------------------------------------------------------------------------------------------------------------------------------------------------------------------------------------------------------------------------------------------------------------------------------------------------------------------------------------------------------------------------------------------------------------------------------------------------------------------------------------------------------------------------------------------------------------------------------------------------------------------------------------------------------------------------------------------------------------------------------------------------------------------------------------------------------------------------------------------------------------------------------------------------------------------------------------------+\n",
            "|text                                                                   |featuresW2Vector                                                                                                                                                                                                                                                                                                                                                                                                                                                                                                                                                                                                                                                                                                                                                                                                                                                                                                                                                                                                                                                                                                                                                                                                                                                                                                                                                                                                                                                                                                                                                                                                                                                                                                                                                                                                                                                                                                                                                                                                                                                                                                                                                                                                                                                                              |\n",
            "+-----------------------------------------------------------------------+----------------------------------------------------------------------------------------------------------------------------------------------------------------------------------------------------------------------------------------------------------------------------------------------------------------------------------------------------------------------------------------------------------------------------------------------------------------------------------------------------------------------------------------------------------------------------------------------------------------------------------------------------------------------------------------------------------------------------------------------------------------------------------------------------------------------------------------------------------------------------------------------------------------------------------------------------------------------------------------------------------------------------------------------------------------------------------------------------------------------------------------------------------------------------------------------------------------------------------------------------------------------------------------------------------------------------------------------------------------------------------------------------------------------------------------------------------------------------------------------------------------------------------------------------------------------------------------------------------------------------------------------------------------------------------------------------------------------------------------------------------------------------------------------------------------------------------------------------------------------------------------------------------------------------------------------------------------------------------------------------------------------------------------------------------------------------------------------------------------------------------------------------------------------------------------------------------------------------------------------------------------------------------------------+\n",
            "|Cloud computing is becoming increasingly important for businesses      |[2.1662381671679515E-4,-0.003174665927266081,0.0018979140537946173,6.11115761178856E-4,-0.0016073504327020296,-3.845046351974209E-4,5.039833607346129E-4,8.532611185122125E-4,7.525885848735925E-4,7.870859602311004E-4,6.491083331638947E-4,2.459725268029918E-4,3.220972333413859E-5,-1.3687395645926395E-4,-0.0016567208173607164,-1.877067843452096E-4,-0.0014349225821206346,0.001471021902640738,-0.0023163691318283477,-0.0022142231852437058,-4.1591915214667097E-4,-0.001328955239538724,0.0015034905312253006,3.819079526389638E-4,-0.0012356257672460438,-8.124870946630836E-4,6.492938264273107E-4,6.645563310788323E-4,-2.8444526954748045E-4,-3.428155711541573E-4,-0.0022706170954431095,-8.567955762070293E-4,-5.085098091512918E-4,0.0011847664767022554,-0.0019280012444748231,-4.073915818783765E-4,-8.780906015696624E-5,-1.45982630783692E-5,-6.177506390182922E-4,-8.206394365212569E-4,3.031930245924741E-4,-0.0012792196648661047,-9.202526804680625E-4,7.352875788152838E-4,0.0016589407411326342,-1.4447481468475112E-4,0.0012333187429855266,0.003388916957192123,5.788465108101566E-4,0.0013059628545306623,-5.921932170167565E-4,-2.1154028945602477E-4,-0.0017831078221206553,-5.332064271594087E-5,-0.0015507172259579722,0.0015770663740113378,0.0010643523273756728,0.00143940521714588,2.312838720778624E-4,-0.003110892915477355,-3.9426460474108654E-4,0.002063787280349061,-5.765919340774417E-4,-0.0011232062121659205,-0.002013641564796368,-0.002108923081929485,-0.0014857994344007843,-0.0023019268410280347,-1.3866141671314836E-4,1.3196033493538076E-4,-7.65531420862923E-4,1.13785009792385E-4,0.0022639884991804138,0.0010721310439597194,-6.157780395975957E-4,2.6779581094160676E-4,-0.0020332329246836403,3.2230552945596475E-4,6.630075901436309E-4,5.809101664150754E-4,-3.292337933089584E-4,-3.0277067950616277E-4,-9.900429771126558E-4,-1.8772480931753913E-4,6.223175247820715E-4,0.001233705595950596,-7.475681680565079E-5,6.384569181439776E-4,0.0016342913428767738,0.002003218448104841,0.001332695324284335,-0.0015873099606930432,-8.61224768110939E-4,-4.0261546382680535E-4,-0.0019744741681885594,3.3279904649437714E-4,-7.673069291437665E-4,0.002368486937484704,-0.0018537570722401142,0.001464182937828203]            |\n",
            "|Basketball players are preparing for the next tournament               |[-1.7872058087959887E-4,7.777955859637587E-4,0.0013526897353585811,-0.0025863731047138573,7.875581039115787E-4,-6.039800762664527E-4,0.0018393194972304628,-4.0657278150320054E-4,0.0021513693121960388,0.0021054231794551018,-4.747870843857527E-4,7.212982513010503E-4,-0.0010419723810628056,4.5348354615271094E-5,-9.471879980992526E-4,-1.5200702473521234E-4,-6.081731466110797E-4,-0.0011127001140266658,0.0036952455295249822,-0.0014808854321017861,-0.00185547957662493,-0.001044382294639945,-9.778988198377192E-4,-4.452238790690899E-4,-2.529393357690424E-4,-0.0016960394714260474,-1.228576060384512E-4,-5.507522859261371E-4,-9.844362852163614E-4,-9.398223366588355E-4,-4.893964243819938E-4,7.891493733040988E-4,-0.0022812135139247403,-1.6027403762564063E-4,-0.001356762181967497,-0.0011602411163039506,-8.080948027782142E-5,-0.0014898419729433955,-7.025283062830568E-4,9.113768232055009E-4,-3.886812599375844E-4,-0.0017811711586546153,5.495702615007759E-4,4.004696529591456E-5,2.2923836950212718E-4,-2.4986329954117535E-4,-9.493020479567349E-4,-0.0020734042598633097,-6.582868751138449E-4,-0.0022580524360819253,-0.0015130664920434357,4.667028057156131E-4,-0.0010847152298083529,0.0019887234549969437,-5.399213754571974E-4,-2.9935408383607864E-4,0.0012287524645216764,-0.002440416580066085,0.0027300656307488683,6.826146505773068E-4,-0.0015689795836806297,-7.178415777161718E-4,-3.7758896942250434E-4,3.789403534028679E-4,-3.5718182334676385E-4,-9.060569544089959E-4,-0.001896225044038147,-0.0012593981809914112,-1.02449647965841E-4,-4.7359801828861237E-4,7.113764469977469E-4,0.001290571158460807,7.373113185167313E-4,-3.7588150007650256E-4,-0.001130435010418296,-0.0014567881022230723,8.468095562420786E-4,2.152776229195297E-4,0.0012280099792405963,-3.6270294804126025E-4,3.976322477683425E-6,5.089519429020584E-4,0.0013751362974289806,-1.5510001103393736E-4,1.71863182913512E-4,6.818655994720757E-4,-0.001393167313653976,0.002569266548380256,-0.0014964021742343903,0.0014103457797318697,8.396008121053456E-4,5.64306415617466E-4,7.320081000216305E-4,6.185451289638877E-4,-6.721123470924795E-4,0.0016956691164523364,0.0013405343051999807,0.0024872552894521505,-3.516849596053362E-4,7.343013305217028E-4]     |\n",
            "|Machine learning has revolutionized the way data is processed          |[0.0016125436522997916,-9.35709620534908E-4,-5.64924159940953E-4,-1.542619817579786E-4,9.850788034479288E-4,4.227849130984396E-4,-0.0018847890120620527,-0.002460429153870791,-1.0212833876721561E-4,-5.243945245941479E-4,0.0012503970453205207,4.3365224458587665E-4,-3.5094580380246043E-4,-8.414693487187225E-6,-0.0019661205975959697,-0.002171089858165942,-0.0017035669006872922,0.0024263930924159163,-2.968512393029717E-4,0.0010580297675915062,-0.0011047819765129436,-8.593936605999867E-4,0.003006564443542932,-0.0013985842136510958,9.355176706170216E-4,-0.0015034991374704987,-6.981614181616653E-4,-4.399035145373394E-4,-0.001039419740360851,0.002552828285843134,5.653995588848677E-4,0.0023515745318339514,0.001189105377610152,-8.775102469371632E-4,-3.4022831823676825E-4,-3.1688885064795613E-4,-3.092026890954003E-4,-3.551184466535536E-4,-8.301836060127243E-4,0.0013205629620642867,-0.0016037228294104957,0.002531037047447171,-2.943496498725532E-4,-7.321051671169698E-4,2.1944002946838737E-4,0.0016289382862548032,-0.001455820670040945,0.0015239159304959078,-0.0021051763906143606,0.0014000876302209992,0.0018640001459668079,1.425625329526762E-4,-2.1250967013960082E-4,0.0015585414900366836,-7.306383607404616E-4,0.0014368249491478005,-6.021135389649619E-4,-3.6504945940881345E-4,-3.4908900367251283E-4,9.619111175804088E-4,0.002074773753217111,-6.960820367870231E-5,2.4587749309527374E-4,3.9939052173091716E-4,0.0014653729649580782,-4.041647783499987E-4,0.002417046343907714,9.859389974735677E-4,-0.0022347464497822025,7.204734235225865E-5,0.0018438392241174975,-5.1592787106831864E-5,-0.0017272820890260239,-5.830617237734259E-4,-0.0022406540520023555,-0.0015543570868127667,-5.240333557594568E-4,-9.349408792331815E-4,6.076631834730506E-4,1.8598100480933982E-4,-4.7423534851986915E-5,-0.002198880906992902,0.001799679147855689,3.908730407905144E-4,0.0013886273469931134,0.0017665651782105365,0.002461972377204802,-4.3186298959578073E-4,9.037410685171683E-5,7.056918499680857E-4,-0.0025137194473548634,4.119513323530555E-4,0.0020650670727870115,-1.0158255463466048E-4,-9.42631003150988E-4,3.0613330212266493E-4,9.720933254963408E-4,3.723746243243416E-4,0.0011346158668554076,0.002065233570950416]        |\n",
            "|Political campaigns are gearing up for the upcoming elections          |[7.599910721182824E-4,-6.0852698516100646E-5,6.62384694442153E-4,1.4568103943020106E-4,-8.408204186707735E-4,0.0013224934460595251,7.126376869564411E-4,2.603207714855671E-4,0.0015909956302493811,0.0017591494601219893,-4.6003508323337887E-4,7.89979798719287E-4,9.47646121494472E-4,0.0014819692820310594,-3.5873331944458187E-4,0.0017849159194156528,0.0015543106710538268,-0.0010914966464042664,-3.949890844523907E-4,0.002444969746284187,0.002177132701035589,0.0012210813816636802,0.0011052321002352984,0.0012406133813783527,9.845879336353393E-4,4.776796791702509E-4,3.018829040229321E-4,5.203718552365899E-4,-1.1928037856705487E-4,0.002435870948829688,0.0010113883181475103,-0.0013343792059458794,0.001639964699279517,8.097996469587089E-5,-1.5235133469104767E-4,-0.0013297069584950806,-0.0013697648886591197,-1.4870092272758486E-4,0.002008526050485671,6.6479900851845745E-6,0.001490746159106493,-6.478755356511102E-4,-4.697901720646769E-4,0.0016449215821921826,0.0028801714302971963,6.878435902763158E-4,-5.788796057458967E-4,0.001269278395920992,0.002712829411029816,0.001234463864238933,0.0010160828474909068,-7.554695475846529E-4,3.853828624414746E-4,1.670479658059776E-4,2.1335376659408213E-4,7.804588240105659E-4,0.0010213477129582317,0.0016979143023490907,2.8081662312615666E-4,0.0026374801789643245,0.001891967037227005,-0.0024568497727159412,-5.849351524375379E-4,5.86419994942844E-4,4.8713903524912896E-4,0.0013117535039782525,-4.7935511393006893E-4,4.2875592480413617E-4,-0.0013437582645565273,0.002523141539131757,0.0013452606275677682,-0.0015516544226557016,-0.0024406396143604073,-0.0015084163962455932,-0.001228213729336858,-9.352710330858827E-4,-0.0025735177216120067,-4.909065086394548E-4,-0.0022390348629414804,5.037326700403355E-4,-0.0011511104181408883,4.3481623288244014E-5,2.484913740772754E-4,5.163659574463963E-4,-5.866313294973224E-4,-0.0012807717605028302,-0.0031677743187174204,-7.193694938905538E-4,7.451437180861832E-4,2.303075045347214E-4,-0.0012456521508283913,-3.0873899231664836E-4,6.780890747904778E-4,-0.0016348146367818118,2.4680064525455235E-4,5.698059219866992E-4,4.39439294859767E-4,0.002291271125432104,0.0021658857120200993,-8.537036366760731E-4]                      |\n",
            "|The football team has been training hard for the upcoming season       |[0.0013014316306604692,-0.0018387151843247314,-4.7419994371011853E-4,-2.698554502179225E-4,-0.0010366949912471075,-0.0013272641954245046,0.0025244670881268876,0.0015056040574563667,8.632766548544168E-5,9.189963263149062E-5,-0.0018639479725000758,0.0012189736977840462,-2.2703536039140695E-4,-8.312160304437081E-4,-0.0011874069071685274,3.518044056060413E-4,-0.0014764387645603467,-6.45443593384698E-4,-4.6906544594094157E-4,0.0017727634331095032,2.0638991069669524E-4,9.587784685815374E-4,-4.315331655864914E-4,-0.0020716077221247056,8.453503348088512E-4,2.243669199136396E-4,-0.0031411453965120018,-7.09778085971872E-4,-0.0010305407922714949,-3.912926307142091E-4,-0.002046479824154327,-0.0013338081092418481,0.002112701040459797,-0.0016248828712074706,6.382266292348504E-5,-0.0010781056626001373,0.0010476879930744567,-0.0012026288895867765,-0.0011417178126672902,-0.0020359714690130204,-0.0011304586623737123,0.0026078276472010957,3.8382329512387514E-4,-4.654206956426302E-6,-4.507772779713074E-4,0.001119761630737533,-7.32165385367504E-4,-6.0643903755893305E-5,8.868567304792425E-4,2.465885627316311E-4,0.0018914377578767017,-0.002008019670029171,6.84456502009804E-4,-7.630077246479534E-4,-0.0013850290755120416,-1.8470740178599954E-4,-0.001460245189567407,5.63815189404219E-4,-0.0015719863586127758,-4.129594284070966E-4,0.0012582953301413604,-0.0011616303624274829,0.002701118083981176,2.4195122144495446E-4,-5.233266274444759E-4,-3.0120236139434076E-4,-1.0976416524499655E-4,0.001354542410505625,0.0010596265783533454,7.34462907227377E-5,3.471682430244982E-4,3.811152031024297E-4,4.7541287494823337E-4,9.216379839926958E-4,0.0017754165552711734,3.402221482247114E-4,0.0016348149122980733,4.3509159392366803E-4,7.685519328030447E-4,-0.0012355603782149651,-7.589655942865647E-4,-5.004975149252762E-4,8.351246603221322E-4,0.0017745616884591677,7.212255829169104E-4,5.747762916143984E-4,-0.0028772792623688774,5.898369854548946E-4,-8.444538778652106E-4,-9.2524957532684E-6,-0.0010641963259937861,0.0013260002985286214,7.839428047494341E-4,-2.9639732868721086E-4,-9.439579346993316E-4,-9.57726976290966E-5,-0.002923900591364751,0.0012164687577751465,0.001087851085079213,-1.1499262958144147E-5]          |\n",
            "|International relations are being discussed in diplomatic meetings     |[8.881551213562489E-4,-0.002076226379722357,0.0017891211318783462,5.284957296680659E-4,-7.656804169528187E-4,9.432316408492625E-4,-0.0017431827494874597,-1.6304768068948762E-4,-1.5136192450881936E-4,-0.0023398852725222243,-1.0441977065056562E-4,9.754958096891642E-4,-0.001267203618772328,-0.002905961315263994,-4.128882428631187E-5,0.0011813560966402294,-0.0015126522979699076,-8.562624920159579E-4,-2.1191507112234832E-4,5.877242423593999E-4,0.0010289565660059452,-8.238655951572582E-4,-5.041571334004402E-4,-0.0017676612827926875,7.100842893123627E-4,-0.0022006783750839532,1.703772693872452E-4,-6.714114220812917E-4,4.218959016725421E-4,0.0020067583536729217,0.0021774787921458485,-0.002154330024495721,0.0018673405575100332,-0.0035429597774054855,-2.778172609396279E-4,-5.251513968687505E-4,-8.491046144627035E-4,-8.773735840804875E-4,0.00107372859492898,1.3766330666840077E-4,-1.0755890980362892E-4,-0.0016160352097358555,-0.0015092636676854454,-0.0015900841332040728,-2.7295837062411014E-4,0.0012964241905137897,0.0015957162948325278,-5.365758901461959E-4,-2.7311207668390127E-5,5.231150425970554E-4,9.780870750546456E-5,0.001782383416139055,6.79448270238936E-4,-2.509739715605974E-4,0.001980625232681632,0.002709350260192878,-3.5874843888450414E-4,-2.240625908598304E-5,-9.119534748606384E-4,-0.0012014126870781184,-0.0013230487471446396,2.5954260490834713E-4,-7.592353154905141E-4,-0.002123906592896674,9.526864712825046E-4,5.391801008954644E-4,-0.0014885909913573414,2.1805239375680686E-4,-0.002407079059048556,0.0011394690605811776,-0.0015933595597743988,3.4729770850390197E-4,-6.807169527746738E-4,-8.434506016783416E-4,-0.0010473893547896297,-0.0014525891485391185,-0.0013911482703406364,-2.25080584641546E-5,-0.002605566626880318,2.1519761066883804E-4,-7.990685990080237E-4,2.810389152728021E-4,0.001171067520044744,-0.0013415756780887024,0.0021117120515555146,-0.002156913746148348,-0.0020909401355311275,-0.0013155447086319327,5.896697170101107E-4,5.529108922928572E-4,-0.0013255510479211808,0.0024924835950514536,3.618564456701279E-4,-0.0010130359092727305,-2.9778664465993646E-4,-9.974617278203368E-4,0.0012074823083821685,-3.92146990634501E-5,5.569268949329854E-4,-9.929753447067925E-4]  |\n",
            "|The president addressed the nation in a live broadcast                 |[6.80611003190279E-5,-0.0018890357459895313,5.093699088320136E-4,8.128985762596131E-4,-9.890997782349587E-4,0.0010672739241272212,-4.353346419520676E-4,1.8126407958334313E-4,-0.0010076239588670433,-0.0025835604406893257,6.291963276453317E-4,2.6753288111649456E-4,-8.303686045110226E-4,-4.978938959538937E-5,0.0016646444331854583,8.254870772361756E-6,-9.376591537147761E-4,7.115559419617057E-4,1.8780422396957874E-4,-2.8864825144410134E-4,-0.002192148449830711,-2.2659488022327425E-4,5.305447935825214E-4,7.934672175906599E-4,0.0032163844211027027,4.386178217828274E-4,0.0019091352703981103,5.652434687362984E-4,0.0024081397335976363,0.0020407979609444737,0.001441147516015917,7.591791974846274E-4,-2.731597982347012E-4,8.831134531646968E-4,6.274636369198561E-4,0.002200205158442259,-0.0030131460283882917,9.145866613835097E-4,2.772490028291941E-4,-0.0017854506149888039,0.0013032877177465707,-5.500389146618545E-4,-0.0031949687632732097,-5.526490043848753E-4,-0.001174868771340698,-0.0029712727759033442,3.356319186423207E-4,9.707362041808665E-5,4.4316744897514586E-4,-3.429083153605461E-4,9.736639447510243E-4,8.396753226406873E-4,7.560727652162314E-4,1.8964563496410848E-4,2.4213965516537428E-4,-0.00171430840055109,3.568306055967696E-4,0.0024143584771081808,-0.0015998031594790518,6.657193647697569E-4,-2.56474559137132E-4,0.0020423624315299093,-0.001627023017499596,5.31126104760915E-4,-0.0011755418410757557,-5.522296880371869E-4,1.0228757455479354E-4,-9.678564965724945E-4,-0.0016776911150373055,8.216809015721083E-4,9.81809530640021E-4,7.307679625228047E-4,-2.164951351005584E-4,-0.0017156141810119154,-2.347072237171233E-4,-9.268651367165149E-4,-9.451926685869694E-4,-0.002093218336813152,0.0013371320557780564,-0.0021401432750280946,0.0011200373061001302,4.0766800520941615E-4,-6.806692108511925E-4,-5.199432722292841E-4,-0.002719302463810891,-5.940339528024197E-4,0.0023037041537463665,0.0013858729304047303,0.001700173376593739,-3.4481987822800877E-4,-1.8334609922021627E-4,0.0014239047130104156,0.0013061946723610164,-8.946755668148399E-4,-4.898951970972121E-4,8.141463389620186E-4,-0.002135355398058891,-0.002919178502634168,-0.0015461097529623658,1.258888685697457E-4]                        |\n",
            "|Tennis players are practicing for the grand slam matches               |[0.0015221469899794706,9.657488659892503E-4,0.0024817736508945623,-4.4229167300121236E-4,2.9083278301792837E-4,-0.0020917455743377405,-2.518128530937247E-4,0.002002161054406315,2.7582354717499885E-4,4.1918233425046003E-4,0.0011860228260047734,-7.196437654783949E-4,-1.6293114943740267E-4,0.002086687503227343,-5.277174301833535E-4,0.0018748400004066448,0.0012218879176847015,0.0012564753997139633,0.0024057119444478303,-2.087524626404047E-4,2.852114848792553E-4,-3.664813848445192E-4,6.649195856880397E-4,1.917577137646731E-4,-4.3808313421322964E-5,-0.0025094722053230116,-4.896396033776302E-4,5.110516988982756E-4,5.259388708509505E-4,-6.761089607607573E-4,0.0012560077399636307,0.0026956144332264858,-0.0028746906512727337,-1.5906574359784523E-4,-5.999933540200193E-4,0.002643318044041128,-6.556082128857572E-5,0.0013545722661850352,-0.001320593961281702,-3.322559229369896E-4,-0.002754628580684463,1.0626779597563048E-4,-0.0010309121583607823,0.0012639292787450054,-8.632642323694502E-4,-9.836399597891916E-4,-4.4580110503981507E-4,-2.717886382015422E-4,3.7197922938503325E-4,5.757504908009043E-4,2.130829234374687E-4,-7.104385986167472E-5,-0.00159420967005038,3.9431790113061044E-4,8.568178357866903E-5,0.0010953759386514623,-5.677544007388253E-4,-0.0011249362723901868,-7.518442580476403E-4,8.623693987222698E-4,-2.680452113660673E-5,9.244173949506754E-4,-5.621328868983255E-4,4.3624850028815365E-4,3.850751721377795E-4,-8.392772482087214E-5,-0.0028581752364213267,5.137467572543148E-4,-1.5966287416328365E-4,-4.0011668655400473E-4,6.496175628853962E-4,0.0014762406353838742,4.6217374013698037E-4,6.535887271941949E-4,4.8553416127106175E-4,-0.001016716220571349,-4.46408026618883E-4,9.907590259293404E-4,4.83699725009501E-4,5.460530762017394E-4,7.06814161579435E-4,-3.422819045226788E-4,4.7937040168714396E-4,6.02827329809467E-4,0.0012795240618288517,3.2723283220548183E-4,0.0015356003229195871,4.8335631345253205E-4,-0.0017218015176088859,0.0017166851030196995,-9.678325344187517E-4,-0.0010219569958280772,9.670011689498399E-4,7.290665719968577E-4,-0.0019723938309349856,0.0025932212787059443,8.7736911761264E-4,-9.724364111510415E-4,-3.484364666898424E-4,8.576766898234685E-4]                       |\n",
            "|Machine learning has revolutionized the way data is processed          |[0.0016125436522997916,-9.35709620534908E-4,-5.64924159940953E-4,-1.542619817579786E-4,9.850788034479288E-4,4.227849130984396E-4,-0.0018847890120620527,-0.002460429153870791,-1.0212833876721561E-4,-5.243945245941479E-4,0.0012503970453205207,4.3365224458587665E-4,-3.5094580380246043E-4,-8.414693487187225E-6,-0.0019661205975959697,-0.002171089858165942,-0.0017035669006872922,0.0024263930924159163,-2.968512393029717E-4,0.0010580297675915062,-0.0011047819765129436,-8.593936605999867E-4,0.003006564443542932,-0.0013985842136510958,9.355176706170216E-4,-0.0015034991374704987,-6.981614181616653E-4,-4.399035145373394E-4,-0.001039419740360851,0.002552828285843134,5.653995588848677E-4,0.0023515745318339514,0.001189105377610152,-8.775102469371632E-4,-3.4022831823676825E-4,-3.1688885064795613E-4,-3.092026890954003E-4,-3.551184466535536E-4,-8.301836060127243E-4,0.0013205629620642867,-0.0016037228294104957,0.002531037047447171,-2.943496498725532E-4,-7.321051671169698E-4,2.1944002946838737E-4,0.0016289382862548032,-0.001455820670040945,0.0015239159304959078,-0.0021051763906143606,0.0014000876302209992,0.0018640001459668079,1.425625329526762E-4,-2.1250967013960082E-4,0.0015585414900366836,-7.306383607404616E-4,0.0014368249491478005,-6.021135389649619E-4,-3.6504945940881345E-4,-3.4908900367251283E-4,9.619111175804088E-4,0.002074773753217111,-6.960820367870231E-5,2.4587749309527374E-4,3.9939052173091716E-4,0.0014653729649580782,-4.041647783499987E-4,0.002417046343907714,9.859389974735677E-4,-0.0022347464497822025,7.204734235225865E-5,0.0018438392241174975,-5.1592787106831864E-5,-0.0017272820890260239,-5.830617237734259E-4,-0.0022406540520023555,-0.0015543570868127667,-5.240333557594568E-4,-9.349408792331815E-4,6.076631834730506E-4,1.8598100480933982E-4,-4.7423534851986915E-5,-0.002198880906992902,0.001799679147855689,3.908730407905144E-4,0.0013886273469931134,0.0017665651782105365,0.002461972377204802,-4.3186298959578073E-4,9.037410685171683E-5,7.056918499680857E-4,-0.0025137194473548634,4.119513323530555E-4,0.0020650670727870115,-1.0158255463466048E-4,-9.42631003150988E-4,3.0613330212266493E-4,9.720933254963408E-4,3.723746243243416E-4,0.0011346158668554076,0.002065233570950416]        |\n",
            "|Stock trading has become a popular way to build wealth                 |[0.0013575204980692693,7.913100707810372E-4,-0.0015079608586217675,5.712504706545067E-4,-0.0027022753077160034,2.247257257944771E-5,-7.99766176247171E-4,0.0010772950814238616,-5.454495050279157E-4,-0.0012371084220441323,0.0012677081561248216,6.1860925052315E-4,-1.0606686451605388E-4,-0.0019401026469755118,1.1235227326064237E-4,0.0010940987537781308,0.0021322864174310647,0.002483881078660488,-1.2000501322160873E-4,4.412617584291313E-4,-3.0770759414216234E-4,4.6620338512834024E-4,-0.0025654260451639338,8.002066128288528E-4,0.003341773957280176,4.961566384216504E-4,-5.068624658243996E-4,-0.003327637445181608,5.855286144651473E-4,-2.8407631076074073E-4,9.184358974120446E-4,0.0018185097765776195,4.1631034608664256E-4,0.0014799335289613475,6.2894013119928E-4,-4.980705645201461E-4,-0.0014232738550552832,-9.185000089928508E-4,-0.0015272397348391157,0.0011202575572367224,-9.716821451937513E-5,5.147658604463296E-4,-5.375679050173078E-4,1.3797530638320104E-4,-3.7942137818650475E-4,0.001450552006385156,-4.6544849673019987E-4,-6.641727107177887E-4,-8.036848531836377E-4,0.0011355777039300716,7.097855809011629E-4,0.0010789620823093823,-5.158327320324523E-4,8.459522879482912E-4,-3.371830763561385E-4,9.599760607151048E-4,5.305000564216503E-4,-0.002587419661722379,0.0010600280282752853,8.917514268042785E-4,0.0012969265558889934,-0.0013368522527993523,0.0011064569033416253,8.932579221436754E-4,2.1832875375236781E-4,-3.9012920647759784E-4,0.0017156602033147853,3.173702778959913E-4,-4.1212248782228144E-4,-1.710909792953836E-4,2.9828720809226586E-4,0.001705297701326864,-6.108250984522913E-4,-7.854390340591115E-4,-7.596743307658471E-4,-3.691608258772508E-4,-0.0018982815236086026,-3.996928821184805E-6,0.001503417725741331,-6.258381472434849E-4,5.769359746149608E-4,8.665710858102621E-4,-0.001345231060570638,0.0012883618110208772,-0.0017095289908216466,-3.522610828180664E-4,-4.407823143992573E-5,-0.001436319335230759,-4.4138842661465915E-4,5.1105091448075E-4,0.0012216754299255886,0.0018424008407496978,-0.0016483905991273265,2.7230954011819055E-4,-5.696591189397232E-4,0.0020704837017027394,-9.307766200176307E-4,0.0015491248840200048,-0.0014383546741945402,0.0021782210263024482]                 |\n",
            "|5G technology is expected to significantly improve communication speeds|[8.324269687623849E-5,-3.302475919813982E-4,-0.0012546322957080389,0.0014141871173965876,-8.518442009517457E-4,-6.475955680278795E-6,-5.610704871027597E-4,5.050262656628286E-4,9.983541863870674E-4,-4.6703793174986325E-4,-1.459128356405667E-4,-0.003095879552087613,-2.7264685039491657E-4,-9.356726160539047E-4,7.097915846056172E-4,-3.536568921325462E-4,6.462992168962955E-4,-1.4312181156128645E-4,0.0012652346215743038,3.701734240166843E-4,-2.551164611109665E-4,-3.509906631994194E-4,7.695424802867429E-4,5.941050393240792E-4,6.553550036707227E-4,-1.0905142491018132E-4,0.0014040265564939805,-2.203978198979582E-5,0.00115683044506503,0.002389612341565745,-0.001871534007867532,-0.0015453431821827377,-0.0017226354352065493,-3.541373215349657E-4,-5.728829252932753E-4,-6.64219338172448E-4,1.2088831031828054E-4,-5.069730936416557E-4,-0.003093975928745099,0.001465099780554218,-0.0012689025606960058,-5.461624823510647E-6,-0.0014958515364144529,8.00232897225734E-4,-1.3049844502737478E-4,-4.928235097655227E-4,-8.147560459162508E-4,0.001150151473536555,-6.77533882221074E-4,6.934436200286394E-4,-0.001486244478396007,-3.68252263537475E-5,0.0010359478931474897,6.699642233018364E-4,0.002695692254097334,-0.0012816467315133195,-0.0019811177792559776,-2.2570728210017217E-4,-7.528495043516159E-4,1.7577245515505116E-4,9.655049902253917E-4,-4.2812574455248455E-5,-0.0016277555675644959,8.886276045814157E-4,-0.001295549516466313,0.0011285705570896554,1.8528496418314586E-4,0.0010352180272872958,7.933245838752814E-4,-0.0012808098565853599,-9.127364277706614E-4,-0.0015730783925391734,-0.001106971313544948,0.0016268141916953027,9.69720010678949E-4,0.0024766329276774608,0.002399487657904891,0.0010083560711271794,7.248015525484723E-4,8.820396448884691E-4,-5.937013712744893E-4,9.321067149617841E-4,0.0012099227335836205,-8.101829028289233E-4,-0.0025683469783481477,0.0015794153171425152,1.6710173388543938E-4,-6.411665485107472E-4,-8.074067799108369E-5,-8.051277670477117E-4,-6.03282857420189E-4,-0.0013369900490423398,-0.0011560971698989825,0.001844531717454499,6.998670443343663E-4,-2.6828153516232433E-4,-2.190264474068369E-5,0.001821017325190561,0.0018306551875347005,-7.687557289110762E-4]                   |\n",
            "|Political campaigns are gearing up for the upcoming elections          |[7.599910721182824E-4,-6.0852698516100646E-5,6.62384694442153E-4,1.4568103943020106E-4,-8.408204186707735E-4,0.0013224934460595251,7.126376869564411E-4,2.603207714855671E-4,0.0015909956302493811,0.0017591494601219893,-4.6003508323337887E-4,7.89979798719287E-4,9.47646121494472E-4,0.0014819692820310594,-3.5873331944458187E-4,0.0017849159194156528,0.0015543106710538268,-0.0010914966464042664,-3.949890844523907E-4,0.002444969746284187,0.002177132701035589,0.0012210813816636802,0.0011052321002352984,0.0012406133813783527,9.845879336353393E-4,4.776796791702509E-4,3.018829040229321E-4,5.203718552365899E-4,-1.1928037856705487E-4,0.002435870948829688,0.0010113883181475103,-0.0013343792059458794,0.001639964699279517,8.097996469587089E-5,-1.5235133469104767E-4,-0.0013297069584950806,-0.0013697648886591197,-1.4870092272758486E-4,0.002008526050485671,6.6479900851845745E-6,0.001490746159106493,-6.478755356511102E-4,-4.697901720646769E-4,0.0016449215821921826,0.0028801714302971963,6.878435902763158E-4,-5.788796057458967E-4,0.001269278395920992,0.002712829411029816,0.001234463864238933,0.0010160828474909068,-7.554695475846529E-4,3.853828624414746E-4,1.670479658059776E-4,2.1335376659408213E-4,7.804588240105659E-4,0.0010213477129582317,0.0016979143023490907,2.8081662312615666E-4,0.0026374801789643245,0.001891967037227005,-0.0024568497727159412,-5.849351524375379E-4,5.86419994942844E-4,4.8713903524912896E-4,0.0013117535039782525,-4.7935511393006893E-4,4.2875592480413617E-4,-0.0013437582645565273,0.002523141539131757,0.0013452606275677682,-0.0015516544226557016,-0.0024406396143604073,-0.0015084163962455932,-0.001228213729336858,-9.352710330858827E-4,-0.0025735177216120067,-4.909065086394548E-4,-0.0022390348629414804,5.037326700403355E-4,-0.0011511104181408883,4.3481623288244014E-5,2.484913740772754E-4,5.163659574463963E-4,-5.866313294973224E-4,-0.0012807717605028302,-0.0031677743187174204,-7.193694938905538E-4,7.451437180861832E-4,2.303075045347214E-4,-0.0012456521508283913,-3.0873899231664836E-4,6.780890747904778E-4,-0.0016348146367818118,2.4680064525455235E-4,5.698059219866992E-4,4.39439294859767E-4,0.002291271125432104,0.0021658857120200993,-8.537036366760731E-4]                      |\n",
            "|Machine learning has revolutionized the way data is processed          |[0.0016125436522997916,-9.35709620534908E-4,-5.64924159940953E-4,-1.542619817579786E-4,9.850788034479288E-4,4.227849130984396E-4,-0.0018847890120620527,-0.002460429153870791,-1.0212833876721561E-4,-5.243945245941479E-4,0.0012503970453205207,4.3365224458587665E-4,-3.5094580380246043E-4,-8.414693487187225E-6,-0.0019661205975959697,-0.002171089858165942,-0.0017035669006872922,0.0024263930924159163,-2.968512393029717E-4,0.0010580297675915062,-0.0011047819765129436,-8.593936605999867E-4,0.003006564443542932,-0.0013985842136510958,9.355176706170216E-4,-0.0015034991374704987,-6.981614181616653E-4,-4.399035145373394E-4,-0.001039419740360851,0.002552828285843134,5.653995588848677E-4,0.0023515745318339514,0.001189105377610152,-8.775102469371632E-4,-3.4022831823676825E-4,-3.1688885064795613E-4,-3.092026890954003E-4,-3.551184466535536E-4,-8.301836060127243E-4,0.0013205629620642867,-0.0016037228294104957,0.002531037047447171,-2.943496498725532E-4,-7.321051671169698E-4,2.1944002946838737E-4,0.0016289382862548032,-0.001455820670040945,0.0015239159304959078,-0.0021051763906143606,0.0014000876302209992,0.0018640001459668079,1.425625329526762E-4,-2.1250967013960082E-4,0.0015585414900366836,-7.306383607404616E-4,0.0014368249491478005,-6.021135389649619E-4,-3.6504945940881345E-4,-3.4908900367251283E-4,9.619111175804088E-4,0.002074773753217111,-6.960820367870231E-5,2.4587749309527374E-4,3.9939052173091716E-4,0.0014653729649580782,-4.041647783499987E-4,0.002417046343907714,9.859389974735677E-4,-0.0022347464497822025,7.204734235225865E-5,0.0018438392241174975,-5.1592787106831864E-5,-0.0017272820890260239,-5.830617237734259E-4,-0.0022406540520023555,-0.0015543570868127667,-5.240333557594568E-4,-9.349408792331815E-4,6.076631834730506E-4,1.8598100480933982E-4,-4.7423534851986915E-5,-0.002198880906992902,0.001799679147855689,3.908730407905144E-4,0.0013886273469931134,0.0017665651782105365,0.002461972377204802,-4.3186298959578073E-4,9.037410685171683E-5,7.056918499680857E-4,-0.0025137194473548634,4.119513323530555E-4,0.0020650670727870115,-1.0158255463466048E-4,-9.42631003150988E-4,3.0613330212266493E-4,9.720933254963408E-4,3.723746243243416E-4,0.0011346158668554076,0.002065233570950416]        |\n",
            "|Investors are looking for high-yield bonds in the current market       |[-0.002318217341477672,-8.108252610933656E-4,-1.863015010409678E-4,4.852164662831152E-4,0.0012343003181740642,-0.0036873878367866078,-0.0010430762049509212,0.00292116750885422,5.293525488620313E-4,4.0205263455087936E-4,4.984734672082898E-4,-5.836690252181143E-4,1.5138690165864924E-4,-2.3912555964974064E-4,9.761124771709243E-4,-0.0013438192496929937,-4.784305880699927E-4,3.224699563967685E-5,-1.1577669647522271E-4,1.3409751545623294E-5,-0.001689785232883878,7.704556143532196E-5,-1.8666446461187053E-4,-5.181041099907209E-4,0.0012867406282263496,1.2914883942964175E-4,8.243056460438917E-4,-0.0017968168249353766,3.964074421674013E-4,7.930296220971892E-4,-7.353117301439245E-4,-1.790836298217376E-5,-2.52346733759623E-4,0.0019322863445268013,0.0024463102187534482,-8.330072547929982E-4,-0.001949232343273858,-0.00175343172547097,-0.001424702340348934,6.735071850319703E-4,7.503382536621453E-4,4.72775922389701E-4,-0.0011318327063539375,-0.0010094509925693274,4.866536861906449E-5,-0.0012144070351496339,1.148705002075682E-4,5.688593155355193E-4,-9.92686099683245E-4,0.0023736766500708955,0.0018178678001277149,4.18721135550489E-4,5.691822346610327E-4,-1.6745643612618247E-4,-7.547260756837204E-4,2.31225179353108E-4,0.0013342539799244453,8.788626873865724E-4,-0.001610903467129295,-9.112538937188219E-4,0.0012686297704931349,0.0024803412003772487,-4.957133666418182E-4,-5.954373045824468E-5,6.606883507629391E-4,5.727357432382025E-4,-0.0012358560149247446,-2.6525467789421475E-4,0.0012037323516172667,9.266550647832142E-4,0.0010193593722457686,3.4528917361361283E-4,-2.0170852803857997E-4,-0.0017067970681334068,0.0013881254805407175,-0.001560434810623216,-0.0011288289751973934,-7.981514985052247E-5,-6.635260457793871E-4,-1.6836827853694558E-4,0.0010961537385204185,0.00278953278514867,-5.609884732014809E-4,-0.001048731772849957,-0.0011205169042417158,-5.094610969536006E-4,4.0255083392063773E-4,-9.185488900887624E-4,-0.0022279641319376724,-5.15527402361234E-4,-2.156044744576017E-4,7.617576144790897E-4,6.393050716724247E-5,-6.736389671762784E-4,-8.63488642911155E-5,0.002051877895913397,2.843339655858775E-4,-0.0015313096810132265,-2.4690065280689544E-4,0.0018315490403134995]                      |\n",
            "|Quantum computing holds promise for solving complex problems           |[5.877931751976055E-4,1.6063880840582506E-4,0.0012871842149512044,2.2757082894843603E-4,9.591216886682169E-4,0.001166484401827412,-0.0014381908445752092,-8.696321778448431E-4,0.001450425895330097,0.001370967349170574,-7.545913124756355E-4,-7.504194509238005E-4,-8.518093964084983E-4,-0.001058210918147649,-8.775762149265834E-4,0.0015978599466117363,-0.0023865425194214496,4.989168207560267E-4,4.150692506560257E-4,-0.0013622901502198406,0.0013851015329627053,4.904054720619959E-4,-4.859205302117126E-4,-0.0011066756331794228,-2.871036496279495E-4,0.001003404996091766,-8.399600046686828E-4,4.1975357869107805E-4,3.3602958475447456E-4,-0.0027223262087708072,0.0014488124538079967,-5.938371260916547E-4,1.0038870927279016E-4,-5.99142479976373E-4,-5.119821455861841E-4,-8.860278092989964E-4,-0.0018273082761360066,-0.0014523884913484964,-8.763385537479604E-4,3.490490572793143E-4,0.0027732603983687504,-0.0010433452677846486,4.5364217865946036E-4,7.549802456716341E-4,-0.0011602659776274646,-2.5950372219085693E-4,4.3548159633896176E-4,-0.001218637782065863,2.5137233647650907E-4,-3.891147041161145E-4,8.043062324369592E-4,2.0819861674681306E-5,1.881065878218838E-4,-4.1128543463336034E-4,-0.0011860630558138447,-1.3092143386269785E-4,-0.001801589853130281,6.947007368580671E-4,0.0016120979853440076,-4.1269657958764583E-4,4.99466883151659E-4,0.0013407812220975757,-2.1219038171693683E-4,-0.0012224649100452162,-6.764684471168688E-4,-4.8486542488847457E-4,-0.0019064810351535144,-5.947092431597412E-4,3.3294078561344316E-4,-0.0013095369462722114,7.16410789339404E-4,7.593589086484695E-4,-0.0016659756074659526,0.001881221616973302,5.550777340041739E-4,0.0011619365842696944,6.00436669109123E-4,-3.538515634967812E-4,0.0012406617627545658,-0.001033277688423238,-7.382132462225854E-4,-3.777500585004288E-4,0.0012413246399124286,0.0012299753725528717,7.735773168470976E-4,-2.4178389659417526E-4,9.695525347654308E-6,7.29594861955515E-4,-2.0242515997129625E-4,4.8373921267089566E-4,0.0014763757686263748,-3.815353681732501E-4,4.656368723122536E-4,-2.051442362634199E-4,-0.0017981421801128556,-6.124115316197276E-5,-0.0021223701603178464,0.0012424703935331697,3.469946620628304E-4,-6.643296250591187E-4]           |\n",
            "|Cloud computing is becoming increasingly important for businesses      |[2.1662381671679515E-4,-0.003174665927266081,0.0018979140537946173,6.11115761178856E-4,-0.0016073504327020296,-3.845046351974209E-4,5.039833607346129E-4,8.532611185122125E-4,7.525885848735925E-4,7.870859602311004E-4,6.491083331638947E-4,2.459725268029918E-4,3.220972333413859E-5,-1.3687395645926395E-4,-0.0016567208173607164,-1.877067843452096E-4,-0.0014349225821206346,0.001471021902640738,-0.0023163691318283477,-0.0022142231852437058,-4.1591915214667097E-4,-0.001328955239538724,0.0015034905312253006,3.819079526389638E-4,-0.0012356257672460438,-8.124870946630836E-4,6.492938264273107E-4,6.645563310788323E-4,-2.8444526954748045E-4,-3.428155711541573E-4,-0.0022706170954431095,-8.567955762070293E-4,-5.085098091512918E-4,0.0011847664767022554,-0.0019280012444748231,-4.073915818783765E-4,-8.780906015696624E-5,-1.45982630783692E-5,-6.177506390182922E-4,-8.206394365212569E-4,3.031930245924741E-4,-0.0012792196648661047,-9.202526804680625E-4,7.352875788152838E-4,0.0016589407411326342,-1.4447481468475112E-4,0.0012333187429855266,0.003388916957192123,5.788465108101566E-4,0.0013059628545306623,-5.921932170167565E-4,-2.1154028945602477E-4,-0.0017831078221206553,-5.332064271594087E-5,-0.0015507172259579722,0.0015770663740113378,0.0010643523273756728,0.00143940521714588,2.312838720778624E-4,-0.003110892915477355,-3.9426460474108654E-4,0.002063787280349061,-5.765919340774417E-4,-0.0011232062121659205,-0.002013641564796368,-0.002108923081929485,-0.0014857994344007843,-0.0023019268410280347,-1.3866141671314836E-4,1.3196033493538076E-4,-7.65531420862923E-4,1.13785009792385E-4,0.0022639884991804138,0.0010721310439597194,-6.157780395975957E-4,2.6779581094160676E-4,-0.0020332329246836403,3.2230552945596475E-4,6.630075901436309E-4,5.809101664150754E-4,-3.292337933089584E-4,-3.0277067950616277E-4,-9.900429771126558E-4,-1.8772480931753913E-4,6.223175247820715E-4,0.001233705595950596,-7.475681680565079E-5,6.384569181439776E-4,0.0016342913428767738,0.002003218448104841,0.001332695324284335,-0.0015873099606930432,-8.61224768110939E-4,-4.0261546382680535E-4,-0.0019744741681885594,3.3279904649437714E-4,-7.673069291437665E-4,0.002368486937484704,-0.0018537570722401142,0.001464182937828203]            |\n",
            "|The Formula 1 race track is set to host the next grand prix            |[5.729685362894088E-4,-2.8922922016742325E-4,0.0012009510877154146,-0.001738386054057628,6.210005117787254E-4,0.0011693375029911597,-0.0011136021138453442,0.001103218825947907,0.001320166138207747,-8.951321942731738E-4,0.001133193455946942,-0.0012911589745069956,9.820689528068113E-4,-7.399538687119881E-4,-3.800311209892647E-4,4.00217666335973E-4,8.623353528997136E-4,-1.9153603352606297E-4,7.466798609433074E-4,5.051707363842676E-4,9.979064084796442E-4,0.0012765455952224631,-0.0011736283510496528,-0.0020479614860151843,-0.0010460030688490304,-0.0011643940039599934,9.278311077246649E-4,-0.0011818394551583978,0.0024945853090482866,-0.0018340281747239512,-9.407203000996055E-4,9.347667865869071E-4,5.628918378432798E-4,-7.406569137755367E-5,-0.0017937334002150842,-1.9428140593744398E-4,-1.0298759055634339E-4,-8.328892678643266E-4,-5.833026257783381E-4,-7.717414264334366E-4,1.971312772689594E-4,9.453149719370735E-4,0.0010116446646861732,-2.1810234546945946E-4,-1.7563574753391244E-5,-9.392790185908476E-4,-2.3560438744930757E-4,0.0013384658781837465,-5.320263573796385E-4,-0.0017094967770390213,5.342851638690465E-4,0.0010418644022946763,-8.204034545795163E-4,0.001397454965626821,-5.502193493561612E-4,-7.492596697476174E-4,-3.462142962639013E-4,-0.0018275526429836948,-8.434680057689548E-4,-0.00105495461967722,-0.0015661060913569396,-6.286424209570718E-4,-3.542644393140411E-4,-0.0012829459543960788,-4.195001998191906E-4,-0.0011845378952178482,-3.8219485173208843E-4,5.447025824752118E-4,-3.6197718165769603E-4,-3.600754652224067E-4,0.0012769404339552338,1.7862124109847678E-4,0.0012636508456327848,-0.0010440311408375339,0.0018046962472403215,7.316260016523302E-4,-2.5361543521285057E-5,-1.235576896255629E-4,-4.87960085997151E-4,-0.0010639383043679926,-3.1694656354375184E-4,0.0011647657196994664,1.1112126069039933E-4,-9.143636303229464E-4,2.9522243777238246E-4,-0.0022897065953455037,0.0012783490625830987,5.086459115975433E-4,3.788344296885447E-4,-0.0012179505008841967,-1.349798484524298E-4,0.0021718422746441015,4.6814417388911045E-4,-5.894606260375844E-4,0.0014047306033009791,-9.38070472329855E-4,-0.001026404491211805,-4.1669900302723463E-4,-0.0011688318821446349,-0.001402619450042645]|\n",
            "|Financial experts are advising on diversifying investment portfolios   |[8.239986685415108E-4,0.0013128277447928363,0.0012243192177265882,-9.860909631242976E-4,-1.313280469427506E-4,-6.739025799712787E-4,-0.0010595591350769003,9.96457332803402E-4,5.977418234882255E-4,-7.651417630161934E-4,-9.056802179353932E-4,-9.28845620364882E-4,7.998357129205639E-4,2.426252467557788E-4,0.0012171398411737755,-4.391812787313635E-4,6.766737593958775E-6,-0.0028237711157999,-2.0044676299827793E-4,0.001993342123265999,0.0030028024048078805,0.0012936633623515565,-8.874081928903857E-5,0.0019426639870895692,-0.001994276826735586,2.742710057646036E-5,-0.0017632031128111216,1.493671928377201E-4,0.0025984928749191263,1.7171018892743933E-4,-4.056140993877003E-4,-0.0018797565644490533,-5.932218579497809E-4,-0.0010413901230397944,-3.035000991076231E-4,-5.774515872568978E-4,0.0012456213395732143,3.3372392257054644E-9,0.002026677645820503,0.002641563342573742,7.342736838230242E-4,2.3137533571571112E-4,-4.776860199247797E-5,3.4810374684942264E-4,0.0018121547958192725,0.0013689663707433888,-3.6124131778099883E-4,-0.0013032255713672687,0.0018093142086096727,-0.0012683645084810753,9.424153055685262E-4,0.0013339382712729275,0.0020038206445557685,4.933124667635032E-4,0.0018360132138089587,0.001420016303503265,-7.019917635867992E-5,3.2182643190026283E-4,8.573137844602267E-4,-1.0324027001236875E-4,-6.147418462205678E-4,-0.001183300153570599,1.5803464824178565E-4,-0.0011173753155162558,-0.0015039107917497554,6.599709934865434E-4,-0.0016108720446936786,-0.0012483018507130812,7.289018540177494E-4,4.626034642569721E-4,-5.177733158537496E-4,-0.0015078323825340096,6.717987513790528E-4,-0.0010856260584356883,1.5544471292135614E-4,0.001584808730209867,0.001342996178815762,-0.0010859458319221933,0.0012629092331432426,-0.0015874404925853014,0.0014091637373591461,-5.350786280663062E-4,-5.611963454915287E-4,-0.0021838227888414012,0.0018996772657070928,0.0015067985611191639,0.0017175413474130132,0.0010063884741005797,-2.2684930202861625E-4,-1.8137089015605548E-4,1.6886908755016822E-4,-0.0021611998866622644,0.001002700737444684,0.0017137655619687089,0.0010672911012079567,-0.0010845293872989714,7.108874754824985E-4,-8.728776786786814E-4,-4.729982950569441E-4,-2.3237734179322916E-4]          |\n",
            "|Stock trading has become a popular way to build wealth                 |[0.0013575204980692693,7.913100707810372E-4,-0.0015079608586217675,5.712504706545067E-4,-0.0027022753077160034,2.247257257944771E-5,-7.99766176247171E-4,0.0010772950814238616,-5.454495050279157E-4,-0.0012371084220441323,0.0012677081561248216,6.1860925052315E-4,-1.0606686451605388E-4,-0.0019401026469755118,1.1235227326064237E-4,0.0010940987537781308,0.0021322864174310647,0.002483881078660488,-1.2000501322160873E-4,4.412617584291313E-4,-3.0770759414216234E-4,4.6620338512834024E-4,-0.0025654260451639338,8.002066128288528E-4,0.003341773957280176,4.961566384216504E-4,-5.068624658243996E-4,-0.003327637445181608,5.855286144651473E-4,-2.8407631076074073E-4,9.184358974120446E-4,0.0018185097765776195,4.1631034608664256E-4,0.0014799335289613475,6.2894013119928E-4,-4.980705645201461E-4,-0.0014232738550552832,-9.185000089928508E-4,-0.0015272397348391157,0.0011202575572367224,-9.716821451937513E-5,5.147658604463296E-4,-5.375679050173078E-4,1.3797530638320104E-4,-3.7942137818650475E-4,0.001450552006385156,-4.6544849673019987E-4,-6.641727107177887E-4,-8.036848531836377E-4,0.0011355777039300716,7.097855809011629E-4,0.0010789620823093823,-5.158327320324523E-4,8.459522879482912E-4,-3.371830763561385E-4,9.599760607151048E-4,5.305000564216503E-4,-0.002587419661722379,0.0010600280282752853,8.917514268042785E-4,0.0012969265558889934,-0.0013368522527993523,0.0011064569033416253,8.932579221436754E-4,2.1832875375236781E-4,-3.9012920647759784E-4,0.0017156602033147853,3.173702778959913E-4,-4.1212248782228144E-4,-1.710909792953836E-4,2.9828720809226586E-4,0.001705297701326864,-6.108250984522913E-4,-7.854390340591115E-4,-7.596743307658471E-4,-3.691608258772508E-4,-0.0018982815236086026,-3.996928821184805E-6,0.001503417725741331,-6.258381472434849E-4,5.769359746149608E-4,8.665710858102621E-4,-0.001345231060570638,0.0012883618110208772,-0.0017095289908216466,-3.522610828180664E-4,-4.407823143992573E-5,-0.001436319335230759,-4.4138842661465915E-4,5.1105091448075E-4,0.0012216754299255886,0.0018424008407496978,-0.0016483905991273265,2.7230954011819055E-4,-5.696591189397232E-4,0.0020704837017027394,-9.307766200176307E-4,0.0015491248840200048,-0.0014383546741945402,0.0021782210263024482]                 |\n",
            "|Stock trading has become a popular way to build wealth                 |[0.0013575204980692693,7.913100707810372E-4,-0.0015079608586217675,5.712504706545067E-4,-0.0027022753077160034,2.247257257944771E-5,-7.99766176247171E-4,0.0010772950814238616,-5.454495050279157E-4,-0.0012371084220441323,0.0012677081561248216,6.1860925052315E-4,-1.0606686451605388E-4,-0.0019401026469755118,1.1235227326064237E-4,0.0010940987537781308,0.0021322864174310647,0.002483881078660488,-1.2000501322160873E-4,4.412617584291313E-4,-3.0770759414216234E-4,4.6620338512834024E-4,-0.0025654260451639338,8.002066128288528E-4,0.003341773957280176,4.961566384216504E-4,-5.068624658243996E-4,-0.003327637445181608,5.855286144651473E-4,-2.8407631076074073E-4,9.184358974120446E-4,0.0018185097765776195,4.1631034608664256E-4,0.0014799335289613475,6.2894013119928E-4,-4.980705645201461E-4,-0.0014232738550552832,-9.185000089928508E-4,-0.0015272397348391157,0.0011202575572367224,-9.716821451937513E-5,5.147658604463296E-4,-5.375679050173078E-4,1.3797530638320104E-4,-3.7942137818650475E-4,0.001450552006385156,-4.6544849673019987E-4,-6.641727107177887E-4,-8.036848531836377E-4,0.0011355777039300716,7.097855809011629E-4,0.0010789620823093823,-5.158327320324523E-4,8.459522879482912E-4,-3.371830763561385E-4,9.599760607151048E-4,5.305000564216503E-4,-0.002587419661722379,0.0010600280282752853,8.917514268042785E-4,0.0012969265558889934,-0.0013368522527993523,0.0011064569033416253,8.932579221436754E-4,2.1832875375236781E-4,-3.9012920647759784E-4,0.0017156602033147853,3.173702778959913E-4,-4.1212248782228144E-4,-1.710909792953836E-4,2.9828720809226586E-4,0.001705297701326864,-6.108250984522913E-4,-7.854390340591115E-4,-7.596743307658471E-4,-3.691608258772508E-4,-0.0018982815236086026,-3.996928821184805E-6,0.001503417725741331,-6.258381472434849E-4,5.769359746149608E-4,8.665710858102621E-4,-0.001345231060570638,0.0012883618110208772,-0.0017095289908216466,-3.522610828180664E-4,-4.407823143992573E-5,-0.001436319335230759,-4.4138842661465915E-4,5.1105091448075E-4,0.0012216754299255886,0.0018424008407496978,-0.0016483905991273265,2.7230954011819055E-4,-5.696591189397232E-4,0.0020704837017027394,-9.307766200176307E-4,0.0015491248840200048,-0.0014383546741945402,0.0021782210263024482]                 |\n",
            "+-----------------------------------------------------------------------+----------------------------------------------------------------------------------------------------------------------------------------------------------------------------------------------------------------------------------------------------------------------------------------------------------------------------------------------------------------------------------------------------------------------------------------------------------------------------------------------------------------------------------------------------------------------------------------------------------------------------------------------------------------------------------------------------------------------------------------------------------------------------------------------------------------------------------------------------------------------------------------------------------------------------------------------------------------------------------------------------------------------------------------------------------------------------------------------------------------------------------------------------------------------------------------------------------------------------------------------------------------------------------------------------------------------------------------------------------------------------------------------------------------------------------------------------------------------------------------------------------------------------------------------------------------------------------------------------------------------------------------------------------------------------------------------------------------------------------------------------------------------------------------------------------------------------------------------------------------------------------------------------------------------------------------------------------------------------------------------------------------------------------------------------------------------------------------------------------------------------------------------------------------------------------------------------------------------------------------------------------------------------------------------+\n",
            "only showing top 20 rows\n",
            "\n"
          ]
        }
      ]
    },
    {
      "cell_type": "markdown",
      "source": [
        "This code performs text classification using PySpark.\n",
        "It preprocesses text data by tokenizing, removing stopwords, stemming, and lemmatizing.\n",
        "It then uses TF-IDF to convert text into numerical features.\n",
        "A Logistic Regression model is trained on these features.\n",
        "Finally, the model's accuracy is evaluated.\n"
      ],
      "metadata": {
        "id": "gL6Q9ZHuAtTo"
      }
    },
    {
      "cell_type": "markdown",
      "source": [],
      "metadata": {
        "id": "5aamxuUPAi57"
      }
    },
    {
      "cell_type": "code",
      "source": [
        "train_data_w2v, test_data_w2v = df.randomSplit([0.8, 0.2], seed=42)\n",
        "\n",
        "# Train Model\n",
        "lr_w2v = LogisticRegression(featuresCol=\"featuresW2Vector\", labelCol=\"label\")\n",
        "lr_w2v_model = lr_w2v.fit(train_data_w2v)\n",
        "\n",
        "# Predictions\n",
        "predictions_w2v = lr_w2v_model.transform(test_data_w2v)\n",
        "predictions_w2v.select(\"text\", \"category\", \"prediction\").show(truncate=False)\n",
        "\n",
        "# Evaluate Model Accuracy\n",
        "accuracy_w2v = evaluator.evaluate(predictions_w2v)\n",
        "print(f\"Word2Vec Model Accuracy: {accuracy_w2v:.2f}\")"
      ],
      "metadata": {
        "colab": {
          "base_uri": "https://localhost:8080/"
        },
        "id": "WVPQZAt_-ltJ",
        "outputId": "a084d16f-a307-488e-b278-cf9899e0b45b"
      },
      "execution_count": 37,
      "outputs": [
        {
          "output_type": "stream",
          "name": "stdout",
          "text": [
            "+--------------------------------------------------------------------+----------+----------+\n",
            "|text                                                                |category  |prediction|\n",
            "+--------------------------------------------------------------------+----------+----------+\n",
            "|Machine learning has revolutionized the way data is processed       |Technology|1.0       |\n",
            "|The president addressed the nation in a live broadcast              |Politics  |2.0       |\n",
            "|Machine learning has revolutionized the way data is processed       |Technology|1.0       |\n",
            "|Investors are looking for high-yield bonds in the current market    |Finance   |2.0       |\n",
            "|Cloud computing is becoming increasingly important for businesses   |Technology|1.0       |\n",
            "|International relations are being discussed in diplomatic meetings  |Politics  |3.0       |\n",
            "|The Formula 1 race track is set to host the next grand prix         |Sports    |0.0       |\n",
            "|Financial experts are advising on diversifying investment portfolios|Finance   |2.0       |\n",
            "+--------------------------------------------------------------------+----------+----------+\n",
            "\n",
            "Word2Vec Model Accuracy: 0.88\n"
          ]
        }
      ]
    },
    {
      "cell_type": "markdown",
      "source": [
        "This code demonstrates a document classification workflow using PySpark and NLTK.\n",
        "It starts by importing necessary libraries and installing PySpark and NLTK.\n",
        "NLTK's WordNet data is downloaded for lemmatization.\n",
        "Custom UDFs are defined for stemming and lemmatization using NLTK's PorterStemmer and WordNetLemmatizer.\n",
        "A Spark session is initialized to process the data.\n",
        "Sample text data with categories is created as a Spark DataFrame.\n",
        "Text data undergoes tokenization and stop word removal.\n",
        "Stemming and lemmatization are applied to the filtered words using the defined UDFs.\n",
        "The code then transforms the text data into numerical features using TF-IDF.\n",
        "String indexing is used to convert categorical labels into numerical ones.\n",
        "The data is split into training and testing sets.\n",
        "A Logistic Regression model is trained on the TF-IDF features.\n",
        "Predictions are made on the test set, and the model's accuracy is evaluated using the MulticlassClassificationEvaluator.\n",
        "Finally, the code also shows how to use Word2Vec to generate vector representations of the words."
      ],
      "metadata": {
        "id": "iArqPonU_ni5"
      }
    }
  ]
}